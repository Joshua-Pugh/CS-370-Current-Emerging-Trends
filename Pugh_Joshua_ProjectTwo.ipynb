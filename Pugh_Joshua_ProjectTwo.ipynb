{
 "cells": [
  {
   "cell_type": "markdown",
   "metadata": {},
   "source": [
    "# Treasure Hunt Game Notebook\n",
    "\n",
    "## Read and Review Your Starter Code\n",
    "The theme of this project is a popular treasure hunt game in which the player needs to find the treasure before the pirate does. While you will not be developing the entire game, you will write the part of the game that represents the intelligent agent, which is a pirate in this case. The pirate will try to find the optimal path to the treasure using deep Q-learning. \n",
    "\n",
    "You have been provided with two Python classes and this notebook to help you with this assignment. The first class, TreasureMaze.py, represents the environment, which includes a maze object defined as a matrix. The second class, GameExperience.py, stores the episodes – that is, all the states that come in between the initial state and the terminal state. This is later used by the agent for learning by experience, called \"exploration\". This notebook shows how to play a game. Your task is to complete the deep Q-learning implementation for which a skeleton implementation has been provided. The code blocks you will need to complete has #TODO as a header.\n",
    "\n",
    "First, read and review the next few code and instruction blocks to understand the code that you have been given."
   ]
  },
  {
   "cell_type": "code",
   "execution_count": 1,
   "metadata": {},
   "outputs": [
    {
     "name": "stderr",
     "output_type": "stream",
     "text": [
      "Using TensorFlow backend.\n"
     ]
    }
   ],
   "source": [
    "from __future__ import print_function\n",
    "import os, sys, time, datetime, json, random\n",
    "import numpy as np\n",
    "from keras.models import Sequential\n",
    "from keras.layers.core import Dense, Activation\n",
    "from keras.optimizers import SGD , Adam, RMSprop\n",
    "from keras.layers.advanced_activations import PReLU\n",
    "import matplotlib.pyplot as plt\n",
    "from TreasureMaze import TreasureMaze\n",
    "from GameExperience import GameExperience\n",
    "%matplotlib inline"
   ]
  },
  {
   "cell_type": "markdown",
   "metadata": {},
   "source": [
    "The following code block contains an 8x8 matrix that will be used as a maze object:"
   ]
  },
  {
   "cell_type": "code",
   "execution_count": 2,
   "metadata": {},
   "outputs": [],
   "source": [
    "maze = np.array([\n",
    "    [ 1.,  0.,  1.,  1.,  1.,  1.,  1.,  1.],\n",
    "    [ 1.,  0.,  1.,  1.,  1.,  0.,  1.,  1.],\n",
    "    [ 1.,  1.,  1.,  1.,  0.,  1.,  0.,  1.],\n",
    "    [ 1.,  1.,  1.,  0.,  1.,  1.,  1.,  1.],\n",
    "    [ 1.,  1.,  0.,  1.,  1.,  1.,  1.,  1.],\n",
    "    [ 1.,  1.,  1.,  0.,  1.,  0.,  0.,  0.],\n",
    "    [ 1.,  1.,  1.,  0.,  1.,  1.,  1.,  1.],\n",
    "    [ 1.,  1.,  1.,  1.,  0.,  1.,  1.,  1.]\n",
    "])"
   ]
  },
  {
   "cell_type": "markdown",
   "metadata": {},
   "source": [
    "This helper function allows a visual representation of the maze object:"
   ]
  },
  {
   "cell_type": "code",
   "execution_count": 3,
   "metadata": {},
   "outputs": [],
   "source": [
    "def show(qmaze):\n",
    "    plt.grid('on')\n",
    "    nrows, ncols = qmaze.maze.shape\n",
    "    ax = plt.gca()\n",
    "    ax.set_xticks(np.arange(0.5, nrows, 1))\n",
    "    ax.set_yticks(np.arange(0.5, ncols, 1))\n",
    "    ax.set_xticklabels([])\n",
    "    ax.set_yticklabels([])\n",
    "    canvas = np.copy(qmaze.maze)\n",
    "    for row,col in qmaze.visited:\n",
    "        canvas[row,col] = 0.6\n",
    "    pirate_row, pirate_col, _ = qmaze.state\n",
    "    canvas[pirate_row, pirate_col] = 0.3   # pirate cell\n",
    "    canvas[nrows-1, ncols-1] = 0.9 # treasure cell\n",
    "    img = plt.imshow(canvas, interpolation='none', cmap='gray')\n",
    "    return img"
   ]
  },
  {
   "cell_type": "markdown",
   "metadata": {},
   "source": [
    "The pirate agent can move in four directions: left, right, up, and down. \n",
    "\n",
    "While the agent primarily learns by experience through exploitation, often, the agent can choose to explore the environment to find previously undiscovered paths. This is called \"exploration\" and is defined by epsilon. This value is typically a lower value such as 0.1, which means for every ten attempts, the agent will attempt to learn by experience nine times and will randomly explore a new path one time. You are encouraged to try various values for the exploration factor and see how the algorithm performs."
   ]
  },
  {
   "cell_type": "code",
   "execution_count": 4,
   "metadata": {},
   "outputs": [],
   "source": [
    "LEFT = 0\n",
    "UP = 1\n",
    "RIGHT = 2\n",
    "DOWN = 3\n",
    "\n",
    "\n",
    "# Exploration factor\n",
    "epsilon = 1.0\n",
    "epsilon_min = 0.1\n",
    "epsilon_decay = 0.995\n",
    "\n",
    "# Actions dictionary\n",
    "actions_dict = {\n",
    "    LEFT: 'left',\n",
    "    UP: 'up',\n",
    "    RIGHT: 'right',\n",
    "    DOWN: 'down',\n",
    "}\n",
    "\n",
    "num_actions = len(actions_dict)\n"
   ]
  },
  {
   "cell_type": "markdown",
   "metadata": {},
   "source": [
    "The sample code block and output below show creating a maze object and performing one action (DOWN), which returns the reward. The resulting updated environment is visualized."
   ]
  },
  {
   "cell_type": "code",
   "execution_count": 5,
   "metadata": {},
   "outputs": [
    {
     "name": "stdout",
     "output_type": "stream",
     "text": [
      "reward= -0.04\n"
     ]
    },
    {
     "data": {
      "text/plain": [
       "<matplotlib.image.AxesImage at 0x2347c0726c8>"
      ]
     },
     "execution_count": 5,
     "metadata": {},
     "output_type": "execute_result"
    },
    {
     "data": {
      "image/png": "[encoded data removed]",
      "text/plain": [
       "<Figure size 432x288 with 1 Axes>"
      ]
     },
     "metadata": {
      "needs_background": "light"
     },
     "output_type": "display_data"
    }
   ],
   "source": [
    "qmaze = TreasureMaze(maze)\n",
    "canvas, reward, game_over = qmaze.act(DOWN)\n",
    "print(\"reward=\", reward)\n",
    "show(qmaze)"
   ]
  },
  {
   "cell_type": "markdown",
   "metadata": {},
   "source": [
    "This function simulates a full game based on the provided trained model. The other parameters include the TreasureMaze object and the starting position of the pirate."
   ]
  },
  {
   "cell_type": "code",
   "execution_count": 6,
   "metadata": {},
   "outputs": [],
   "source": [
    "def play_game(model, qmaze, pirate_cell):\n",
    "    qmaze.reset(pirate_cell)\n",
    "    envstate = qmaze.observe()\n",
    "    while True:\n",
    "        prev_envstate = envstate\n",
    "        # get next action\n",
    "        q = model.predict(prev_envstate)\n",
    "        action = np.argmax(q[0])\n",
    "\n",
    "        # apply action, get rewards and new state\n",
    "        envstate, reward, game_status = qmaze.act(action)\n",
    "        if game_status == 'win':\n",
    "            return True\n",
    "        elif game_status == 'lose':\n",
    "            return False"
   ]
  },
  {
   "cell_type": "markdown",
   "metadata": {},
   "source": [
    "This function helps you to determine whether the pirate can win any game at all. If your maze is not well designed, the pirate may not win any game at all. In this case, your training would not yield any result. The provided maze in this notebook ensures that there is a path to win and you can run this method to check."
   ]
  },
  {
   "cell_type": "code",
   "execution_count": 7,
   "metadata": {},
   "outputs": [],
   "source": [
    "def completion_check(model, qmaze):\n",
    "    for cell in qmaze.free_cells:\n",
    "        if not qmaze.valid_actions(cell):\n",
    "            return False\n",
    "        if not play_game(model, qmaze, cell):\n",
    "            return False\n",
    "    return True"
   ]
  },
  {
   "cell_type": "markdown",
   "metadata": {},
   "source": [
    "The code you have been given in this block will build the neural network model. Review the code and note the number of layers, as well as the activation, optimizer, and loss functions that are used to train the model."
   ]
  },
  {
   "cell_type": "code",
   "execution_count": 8,
   "metadata": {},
   "outputs": [],
   "source": [
    "def build_model(maze):\n",
    "    model = Sequential()\n",
    "    model.add(Dense(maze.size, input_shape=(maze.size,)))\n",
    "    model.add(PReLU())\n",
    "    model.add(Dense(maze.size))\n",
    "    model.add(PReLU())\n",
    "    model.add(Dense(num_actions))\n",
    "    model.compile(optimizer='adam', loss='mse')\n",
    "    return model"
   ]
  },
  {
   "cell_type": "markdown",
   "metadata": {},
   "source": [
    "# #TODO: Complete the Q-Training Algorithm Code Block\n",
    "\n",
    "This is your deep Q-learning implementation. The goal of your deep Q-learning implementation is to find the best possible navigation sequence that results in reaching the treasure cell while maximizing the reward. In your implementation, you need to determine the optimal number of epochs to achieve a 100% win rate.\n",
    "\n",
    "You will need to complete the section starting with #pseudocode. The pseudocode has been included for you."
   ]
  },
  {
   "cell_type": "code",
   "execution_count": 9,
   "metadata": {},
   "outputs": [],
   "source": [
    "def qtrain(model, maze, **opt):\n",
    "\n",
    "    # exploration factor\n",
    "    global epsilon \n",
    "\n",
    "    # number of epochs\n",
    "    n_epoch = opt.get('n_epoch', 800)\n",
    "\n",
    "    # maximum memory to store episodes\n",
    "    max_memory = opt.get('max_memory', 1000)\n",
    "\n",
    "    # maximum data size for training\n",
    "    data_size = opt.get('data_size', 50)\n",
    "\n",
    "    # start time\n",
    "    start_time = datetime.datetime.now()\n",
    "\n",
    "    # Construct environment/game from numpy array: maze (see above)\n",
    "    qmaze = TreasureMaze(maze)\n",
    "\n",
    "    # Initialize experience replay object\n",
    "    experience = GameExperience(model, max_memory=max_memory)\n",
    "    \n",
    "    win_history = []   # history of win/lose game\n",
    "    hsize = qmaze.maze.size//2   # history window size\n",
    "    win_rate = 0.0\n",
    "\n",
    "    for epoch in range(n_epoch):\n",
    "        \n",
    "        # Agent_cell = randomly select a free cell\n",
    "        agent_cell = qmaze.free_cells[np.random.choice(len(qmaze.free_cells))]\n",
    "        \n",
    "        # Reset the maze with agent set to above position\n",
    "        qmaze.reset(agent_cell)\n",
    "        \n",
    "        # envstate = Environment.current_state\n",
    "        envstate = qmaze.observe()\n",
    "        \n",
    "        n_episodes = 0\n",
    "        loss = 0.0\n",
    "        game_over = False\n",
    "\n",
    "        while not game_over:\n",
    "            \n",
    "            previous_envstate = envstate\n",
    "            \n",
    "            # Action = randomly choose action (left, right, up, down) either by exploration or by exploitation\n",
    "            if np.random.rand() < epsilon:\n",
    "                action = np.random.choice(4)\n",
    "                \n",
    "            else:\n",
    "                q_values = model.predict(previous_envstate)\n",
    "                action = np.argmax(q_values[0])\n",
    "                \n",
    "            # envstate, reward, game_status = qmaze.act(action)   \n",
    "            envstate, reward, game_status = qmaze.act(action)\n",
    "            \n",
    "            episode = [previous_envstate, action, reward, envstate, game_status]\n",
    "            \n",
    "            experience.remember(episode)\n",
    "            \n",
    "            inputs, targets = experience.get_data(data_size=data_size)\n",
    "            \n",
    "            loss += model.train_on_batch(inputs, targets)\n",
    "            n_episodes += 1\n",
    "            \n",
    "            if game_status == 'win':\n",
    "                win_history.append(1)\n",
    "                game_over = True\n",
    "                \n",
    "            elif game_status == 'lose':\n",
    "                win_history.append(0)\n",
    "                game_over = True\n",
    "\n",
    "        if epsilon > epsilon_min:\n",
    "            epsilon *= epsilon_decay\n",
    "            \n",
    "        # Calculate win rate\n",
    "        win_rate = sum(win_history) / len(win_history) if len(win_history) > 0 else 0\n",
    "        \n",
    "        \n",
    "        \n",
    "\n",
    "    #Print the epoch, loss, episodes, win count, and win rate for each epoch\n",
    "        dt = datetime.datetime.now() - start_time\n",
    "        t = format_time(dt.total_seconds())\n",
    "        template = \"Epoch: {:03d}/{:d} | Loss: {:.4f} | Episodes: {:d} | Win count: {:d} | Win rate: {:.3f} | time: {}\"\n",
    "        print(template.format(epoch, n_epoch-1, loss, n_episodes, sum(win_history), win_rate, t))\n",
    "        # We simply check if training has exhausted all free cells and if in all\n",
    "        # cases the agent won.\n",
    "        if win_rate > 0.9 : epsilon = 0.05\n",
    "        if sum(win_history[-hsize:]) == hsize and completion_check(model, qmaze):\n",
    "            print(\"Reached 100%% win rate at epoch: %d\" % (epoch,))\n",
    "            break\n",
    "    \n",
    "    \n",
    "    # Determine the total time for training\n",
    "    dt = datetime.datetime.now() - start_time\n",
    "    seconds = dt.total_seconds()\n",
    "    t = format_time(seconds)\n",
    "\n",
    "    print(\"n_epoch: %d, max_mem: %d, data: %d, time: %s\" % (epoch, max_memory, data_size, t))\n",
    "    return seconds\n",
    "\n",
    "# This is a small utility for printing readable time strings:\n",
    "def format_time(seconds):\n",
    "    if seconds < 400:\n",
    "        s = float(seconds)\n",
    "        return \"%.1f seconds\" % (s,)\n",
    "    elif seconds < 4000:\n",
    "        m = seconds / 60.0\n",
    "        return \"%.2f minutes\" % (m,)\n",
    "    else:\n",
    "        h = seconds / 3600.0\n",
    "        return \"%.2f hours\" % (h,)"
   ]
  },
  {
   "cell_type": "markdown",
   "metadata": {},
   "source": [
    "## Test Your Model\n",
    "\n",
    "Now we will start testing the deep Q-learning implementation. To begin, select **Cell**, then **Run All** from the menu bar. This will run your notebook. As it runs, you should see output begin to appear beneath the next few cells. The code below creates an instance of TreasureMaze."
   ]
  },
  {
   "cell_type": "code",
   "execution_count": 10,
   "metadata": {},
   "outputs": [
    {
     "data": {
      "text/plain": [
       "<matplotlib.image.AxesImage at 0x2347d102808>"
      ]
     },
     "execution_count": 10,
     "metadata": {},
     "output_type": "execute_result"
    },
    {
     "data": {
      "image/png": "[encoded data removed]",
      "text/plain": [
       "<Figure size 432x288 with 1 Axes>"
      ]
     },
     "metadata": {
      "needs_background": "light"
     },
     "output_type": "display_data"
    }
   ],
   "source": [
    "qmaze = TreasureMaze(maze)\n",
    "show(qmaze)"
   ]
  },
  {
   "cell_type": "markdown",
   "metadata": {},
   "source": [
    "In the next code block, you will build your model and train it using deep Q-learning. Note: This step takes several minutes to fully run."
   ]
  },
  {
   "cell_type": "code",
   "execution_count": 11,
   "metadata": {},
   "outputs": [
    {
     "name": "stdout",
     "output_type": "stream",
     "text": [
      "Epoch: 000/799 | Loss: 1.8998 | Episodes: 144 | Win count: 0 | Win rate: 0.000 | time: 14.7 seconds\n",
      "Epoch: 001/799 | Loss: 0.2229 | Episodes: 146 | Win count: 0 | Win rate: 0.000 | time: 28.6 seconds\n",
      "Epoch: 002/799 | Loss: 0.2130 | Episodes: 144 | Win count: 0 | Win rate: 0.000 | time: 43.0 seconds\n",
      "Epoch: 003/799 | Loss: 0.1023 | Episodes: 70 | Win count: 1 | Win rate: 0.250 | time: 49.0 seconds\n",
      "Epoch: 004/799 | Loss: 0.3469 | Episodes: 137 | Win count: 1 | Win rate: 0.200 | time: 62.6 seconds\n",
      "Epoch: 005/799 | Loss: 0.2531 | Episodes: 89 | Win count: 2 | Win rate: 0.333 | time: 72.3 seconds\n",
      "Epoch: 006/799 | Loss: 0.3440 | Episodes: 144 | Win count: 2 | Win rate: 0.286 | time: 87.2 seconds\n",
      "Epoch: 007/799 | Loss: 0.4300 | Episodes: 141 | Win count: 2 | Win rate: 0.250 | time: 101.6 seconds\n",
      "Epoch: 008/799 | Loss: 0.2980 | Episodes: 148 | Win count: 2 | Win rate: 0.222 | time: 116.7 seconds\n",
      "Epoch: 009/799 | Loss: 0.2602 | Episodes: 150 | Win count: 2 | Win rate: 0.200 | time: 132.0 seconds\n",
      "Epoch: 010/799 | Loss: 0.2049 | Episodes: 144 | Win count: 2 | Win rate: 0.182 | time: 146.9 seconds\n",
      "Epoch: 011/799 | Loss: 0.0067 | Episodes: 5 | Win count: 3 | Win rate: 0.250 | time: 147.5 seconds\n",
      "Epoch: 012/799 | Loss: 0.2452 | Episodes: 137 | Win count: 3 | Win rate: 0.231 | time: 160.8 seconds\n",
      "Epoch: 013/799 | Loss: 0.2540 | Episodes: 151 | Win count: 3 | Win rate: 0.214 | time: 176.2 seconds\n",
      "Epoch: 014/799 | Loss: 0.2727 | Episodes: 143 | Win count: 3 | Win rate: 0.200 | time: 190.4 seconds\n",
      "Epoch: 015/799 | Loss: 0.2021 | Episodes: 135 | Win count: 3 | Win rate: 0.188 | time: 203.9 seconds\n",
      "Epoch: 016/799 | Loss: 0.1920 | Episodes: 150 | Win count: 3 | Win rate: 0.176 | time: 217.6 seconds\n",
      "Epoch: 017/799 | Loss: 0.0038 | Episodes: 2 | Win count: 4 | Win rate: 0.222 | time: 217.7 seconds\n",
      "Epoch: 018/799 | Loss: 0.2632 | Episodes: 137 | Win count: 4 | Win rate: 0.211 | time: 230.2 seconds\n",
      "Epoch: 019/799 | Loss: 0.2093 | Episodes: 141 | Win count: 4 | Win rate: 0.200 | time: 244.8 seconds\n",
      "Epoch: 020/799 | Loss: 0.2703 | Episodes: 147 | Win count: 4 | Win rate: 0.190 | time: 258.1 seconds\n",
      "Epoch: 021/799 | Loss: 0.1349 | Episodes: 76 | Win count: 5 | Win rate: 0.227 | time: 264.9 seconds\n",
      "Epoch: 022/799 | Loss: 0.2399 | Episodes: 144 | Win count: 5 | Win rate: 0.217 | time: 278.0 seconds\n",
      "Epoch: 023/799 | Loss: 0.3130 | Episodes: 144 | Win count: 5 | Win rate: 0.208 | time: 293.3 seconds\n",
      "Epoch: 024/799 | Loss: 0.3252 | Episodes: 152 | Win count: 5 | Win rate: 0.200 | time: 307.8 seconds\n",
      "Epoch: 025/799 | Loss: 0.2284 | Episodes: 139 | Win count: 5 | Win rate: 0.192 | time: 319.8 seconds\n",
      "Epoch: 026/799 | Loss: 0.0036 | Episodes: 3 | Win count: 6 | Win rate: 0.222 | time: 320.1 seconds\n",
      "Epoch: 027/799 | Loss: 0.3121 | Episodes: 150 | Win count: 6 | Win rate: 0.214 | time: 334.4 seconds\n",
      "Epoch: 028/799 | Loss: 0.2844 | Episodes: 144 | Win count: 6 | Win rate: 0.207 | time: 348.3 seconds\n",
      "Epoch: 029/799 | Loss: 0.2256 | Episodes: 144 | Win count: 6 | Win rate: 0.200 | time: 363.9 seconds\n",
      "Epoch: 030/799 | Loss: 0.2311 | Episodes: 144 | Win count: 6 | Win rate: 0.194 | time: 380.6 seconds\n",
      "Epoch: 031/799 | Loss: 0.0039 | Episodes: 4 | Win count: 7 | Win rate: 0.219 | time: 380.9 seconds\n",
      "Epoch: 032/799 | Loss: 0.2209 | Episodes: 143 | Win count: 7 | Win rate: 0.212 | time: 395.2 seconds\n",
      "Epoch: 033/799 | Loss: 0.2168 | Episodes: 140 | Win count: 7 | Win rate: 0.206 | time: 6.81 minutes\n",
      "Epoch: 034/799 | Loss: 0.0964 | Episodes: 64 | Win count: 8 | Win rate: 0.229 | time: 6.91 minutes\n",
      "Epoch: 035/799 | Loss: 0.0564 | Episodes: 20 | Win count: 9 | Win rate: 0.250 | time: 6.95 minutes\n",
      "Epoch: 036/799 | Loss: 0.3117 | Episodes: 142 | Win count: 9 | Win rate: 0.243 | time: 7.20 minutes\n",
      "Epoch: 037/799 | Loss: 0.0592 | Episodes: 35 | Win count: 10 | Win rate: 0.263 | time: 7.25 minutes\n",
      "Epoch: 038/799 | Loss: 0.0046 | Episodes: 3 | Win count: 11 | Win rate: 0.282 | time: 7.26 minutes\n",
      "Epoch: 039/799 | Loss: 0.3902 | Episodes: 145 | Win count: 11 | Win rate: 0.275 | time: 7.48 minutes\n",
      "Epoch: 040/799 | Loss: 0.3873 | Episodes: 146 | Win count: 11 | Win rate: 0.268 | time: 7.72 minutes\n",
      "Epoch: 041/799 | Loss: 0.3302 | Episodes: 144 | Win count: 11 | Win rate: 0.262 | time: 7.97 minutes\n",
      "Epoch: 042/799 | Loss: 0.2344 | Episodes: 150 | Win count: 11 | Win rate: 0.256 | time: 8.22 minutes\n",
      "Epoch: 043/799 | Loss: 0.0666 | Episodes: 50 | Win count: 12 | Win rate: 0.273 | time: 8.30 minutes\n",
      "Epoch: 044/799 | Loss: 0.2511 | Episodes: 141 | Win count: 12 | Win rate: 0.267 | time: 8.51 minutes\n",
      "Epoch: 045/799 | Loss: 0.4326 | Episodes: 158 | Win count: 12 | Win rate: 0.261 | time: 8.74 minutes\n",
      "Epoch: 046/799 | Loss: 0.2748 | Episodes: 134 | Win count: 12 | Win rate: 0.255 | time: 8.96 minutes\n",
      "Epoch: 047/799 | Loss: 0.2398 | Episodes: 151 | Win count: 12 | Win rate: 0.250 | time: 9.22 minutes\n",
      "Epoch: 048/799 | Loss: 0.2039 | Episodes: 144 | Win count: 12 | Win rate: 0.245 | time: 9.45 minutes\n",
      "Epoch: 049/799 | Loss: 0.1866 | Episodes: 151 | Win count: 12 | Win rate: 0.240 | time: 9.73 minutes\n",
      "Epoch: 050/799 | Loss: 0.1899 | Episodes: 138 | Win count: 12 | Win rate: 0.235 | time: 9.95 minutes\n",
      "Epoch: 051/799 | Loss: 0.1999 | Episodes: 148 | Win count: 12 | Win rate: 0.231 | time: 10.18 minutes\n",
      "Epoch: 052/799 | Loss: 0.1726 | Episodes: 140 | Win count: 12 | Win rate: 0.226 | time: 10.38 minutes\n",
      "Epoch: 053/799 | Loss: 0.1697 | Episodes: 149 | Win count: 12 | Win rate: 0.222 | time: 10.63 minutes\n",
      "Epoch: 054/799 | Loss: 0.1995 | Episodes: 155 | Win count: 12 | Win rate: 0.218 | time: 10.86 minutes\n",
      "Epoch: 055/799 | Loss: 0.1815 | Episodes: 139 | Win count: 12 | Win rate: 0.214 | time: 11.09 minutes\n",
      "Epoch: 056/799 | Loss: 0.1828 | Episodes: 144 | Win count: 12 | Win rate: 0.211 | time: 11.34 minutes\n",
      "Epoch: 057/799 | Loss: 0.1791 | Episodes: 144 | Win count: 12 | Win rate: 0.207 | time: 11.59 minutes\n",
      "Epoch: 058/799 | Loss: 0.1899 | Episodes: 150 | Win count: 12 | Win rate: 0.203 | time: 11.84 minutes\n",
      "Epoch: 059/799 | Loss: 0.2163 | Episodes: 155 | Win count: 12 | Win rate: 0.200 | time: 12.11 minutes\n",
      "Epoch: 060/799 | Loss: 0.1935 | Episodes: 144 | Win count: 12 | Win rate: 0.197 | time: 12.38 minutes\n",
      "Epoch: 061/799 | Loss: 0.1927 | Episodes: 153 | Win count: 12 | Win rate: 0.194 | time: 12.63 minutes\n",
      "Epoch: 062/799 | Loss: 0.2131 | Episodes: 148 | Win count: 12 | Win rate: 0.190 | time: 12.86 minutes\n",
      "Epoch: 063/799 | Loss: 0.1765 | Episodes: 136 | Win count: 12 | Win rate: 0.188 | time: 13.08 minutes\n",
      "Epoch: 064/799 | Loss: 0.0679 | Episodes: 58 | Win count: 13 | Win rate: 0.200 | time: 13.18 minutes\n",
      "Epoch: 065/799 | Loss: 0.0073 | Episodes: 5 | Win count: 14 | Win rate: 0.212 | time: 13.19 minutes\n",
      "Epoch: 066/799 | Loss: 0.3111 | Episodes: 142 | Win count: 14 | Win rate: 0.209 | time: 13.45 minutes\n",
      "Epoch: 067/799 | Loss: 0.2863 | Episodes: 139 | Win count: 14 | Win rate: 0.206 | time: 13.68 minutes\n",
      "Epoch: 068/799 | Loss: 0.3806 | Episodes: 149 | Win count: 14 | Win rate: 0.203 | time: 13.92 minutes\n",
      "Epoch: 069/799 | Loss: 0.0062 | Episodes: 4 | Win count: 15 | Win rate: 0.214 | time: 13.93 minutes\n",
      "Epoch: 070/799 | Loss: 0.2860 | Episodes: 138 | Win count: 15 | Win rate: 0.211 | time: 14.15 minutes\n",
      "Epoch: 071/799 | Loss: 0.2322 | Episodes: 155 | Win count: 15 | Win rate: 0.208 | time: 14.41 minutes\n",
      "Epoch: 072/799 | Loss: 0.2796 | Episodes: 148 | Win count: 15 | Win rate: 0.205 | time: 14.66 minutes\n",
      "Epoch: 073/799 | Loss: 0.0179 | Episodes: 9 | Win count: 16 | Win rate: 0.216 | time: 14.68 minutes\n",
      "Epoch: 074/799 | Loss: 0.2901 | Episodes: 148 | Win count: 16 | Win rate: 0.213 | time: 14.92 minutes\n",
      "Epoch: 075/799 | Loss: 0.3279 | Episodes: 144 | Win count: 16 | Win rate: 0.211 | time: 15.17 minutes\n",
      "Epoch: 076/799 | Loss: 0.0645 | Episodes: 24 | Win count: 17 | Win rate: 0.221 | time: 15.22 minutes\n",
      "Epoch: 077/799 | Loss: 0.4600 | Episodes: 148 | Win count: 17 | Win rate: 0.218 | time: 15.45 minutes\n",
      "Epoch: 078/799 | Loss: 0.0176 | Episodes: 7 | Win count: 18 | Win rate: 0.228 | time: 15.45 minutes\n",
      "Epoch: 079/799 | Loss: 0.3965 | Episodes: 148 | Win count: 18 | Win rate: 0.225 | time: 15.72 minutes\n",
      "Epoch: 080/799 | Loss: 0.0314 | Episodes: 16 | Win count: 19 | Win rate: 0.235 | time: 15.75 minutes\n",
      "Epoch: 081/799 | Loss: 0.1206 | Episodes: 38 | Win count: 20 | Win rate: 0.244 | time: 15.81 minutes\n"
     ]
    },
    {
     "name": "stdout",
     "output_type": "stream",
     "text": [
      "Epoch: 082/799 | Loss: 0.3958 | Episodes: 133 | Win count: 21 | Win rate: 0.253 | time: 16.08 minutes\n",
      "Epoch: 083/799 | Loss: 0.4067 | Episodes: 139 | Win count: 21 | Win rate: 0.250 | time: 16.33 minutes\n",
      "Epoch: 084/799 | Loss: 0.0148 | Episodes: 9 | Win count: 22 | Win rate: 0.259 | time: 16.35 minutes\n",
      "Epoch: 085/799 | Loss: 0.1943 | Episodes: 103 | Win count: 23 | Win rate: 0.267 | time: 16.52 minutes\n",
      "Epoch: 086/799 | Loss: 0.0010 | Episodes: 1 | Win count: 24 | Win rate: 0.276 | time: 16.52 minutes\n",
      "Epoch: 087/799 | Loss: 0.3346 | Episodes: 138 | Win count: 24 | Win rate: 0.273 | time: 16.77 minutes\n",
      "Epoch: 088/799 | Loss: 0.2150 | Episodes: 154 | Win count: 24 | Win rate: 0.270 | time: 17.07 minutes\n",
      "Epoch: 089/799 | Loss: 0.0561 | Episodes: 49 | Win count: 25 | Win rate: 0.278 | time: 17.18 minutes\n",
      "Epoch: 090/799 | Loss: 0.0015 | Episodes: 1 | Win count: 26 | Win rate: 0.286 | time: 17.18 minutes\n",
      "Epoch: 091/799 | Loss: 0.2318 | Episodes: 146 | Win count: 26 | Win rate: 0.283 | time: 17.47 minutes\n",
      "Epoch: 092/799 | Loss: 0.0100 | Episodes: 9 | Win count: 27 | Win rate: 0.290 | time: 17.49 minutes\n",
      "Epoch: 093/799 | Loss: 0.1965 | Episodes: 124 | Win count: 28 | Win rate: 0.298 | time: 17.76 minutes\n",
      "Epoch: 094/799 | Loss: 0.2283 | Episodes: 142 | Win count: 28 | Win rate: 0.295 | time: 18.03 minutes\n",
      "Epoch: 095/799 | Loss: 0.0103 | Episodes: 7 | Win count: 29 | Win rate: 0.302 | time: 18.05 minutes\n",
      "Epoch: 096/799 | Loss: 0.2406 | Episodes: 154 | Win count: 29 | Win rate: 0.299 | time: 18.32 minutes\n",
      "Epoch: 097/799 | Loss: 0.1346 | Episodes: 83 | Win count: 30 | Win rate: 0.306 | time: 18.46 minutes\n",
      "Epoch: 098/799 | Loss: 0.2145 | Episodes: 136 | Win count: 31 | Win rate: 0.313 | time: 18.69 minutes\n",
      "Epoch: 099/799 | Loss: 0.2094 | Episodes: 143 | Win count: 31 | Win rate: 0.310 | time: 18.93 minutes\n",
      "Epoch: 100/799 | Loss: 0.2195 | Episodes: 145 | Win count: 31 | Win rate: 0.307 | time: 19.19 minutes\n",
      "Epoch: 101/799 | Loss: 0.0974 | Episodes: 74 | Win count: 32 | Win rate: 0.314 | time: 19.32 minutes\n",
      "Epoch: 102/799 | Loss: 0.1880 | Episodes: 138 | Win count: 32 | Win rate: 0.311 | time: 19.56 minutes\n",
      "Epoch: 103/799 | Loss: 0.1098 | Episodes: 85 | Win count: 33 | Win rate: 0.317 | time: 19.70 minutes\n",
      "Epoch: 104/799 | Loss: 0.0718 | Episodes: 50 | Win count: 34 | Win rate: 0.324 | time: 19.81 minutes\n",
      "Epoch: 105/799 | Loss: 0.2466 | Episodes: 150 | Win count: 34 | Win rate: 0.321 | time: 20.09 minutes\n",
      "Epoch: 106/799 | Loss: 0.2524 | Episodes: 155 | Win count: 34 | Win rate: 0.318 | time: 20.34 minutes\n",
      "Epoch: 107/799 | Loss: 0.2304 | Episodes: 142 | Win count: 34 | Win rate: 0.315 | time: 20.56 minutes\n",
      "Epoch: 108/799 | Loss: 0.1393 | Episodes: 95 | Win count: 35 | Win rate: 0.321 | time: 20.69 minutes\n",
      "Epoch: 109/799 | Loss: 0.2061 | Episodes: 151 | Win count: 35 | Win rate: 0.318 | time: 20.94 minutes\n",
      "Epoch: 110/799 | Loss: 0.1678 | Episodes: 119 | Win count: 36 | Win rate: 0.324 | time: 21.13 minutes\n",
      "Epoch: 111/799 | Loss: 0.1893 | Episodes: 136 | Win count: 36 | Win rate: 0.321 | time: 21.34 minutes\n",
      "Epoch: 112/799 | Loss: 0.1572 | Episodes: 138 | Win count: 36 | Win rate: 0.319 | time: 21.54 minutes\n",
      "Epoch: 113/799 | Loss: 0.0776 | Episodes: 87 | Win count: 37 | Win rate: 0.325 | time: 21.68 minutes\n",
      "Epoch: 114/799 | Loss: 0.0007 | Episodes: 1 | Win count: 38 | Win rate: 0.330 | time: 21.68 minutes\n",
      "Epoch: 115/799 | Loss: 0.1507 | Episodes: 149 | Win count: 38 | Win rate: 0.328 | time: 21.89 minutes\n",
      "Epoch: 116/799 | Loss: 0.0058 | Episodes: 6 | Win count: 39 | Win rate: 0.333 | time: 21.90 minutes\n",
      "Epoch: 117/799 | Loss: 0.1664 | Episodes: 141 | Win count: 39 | Win rate: 0.331 | time: 22.14 minutes\n",
      "Epoch: 118/799 | Loss: 0.2060 | Episodes: 156 | Win count: 39 | Win rate: 0.328 | time: 22.41 minutes\n",
      "Epoch: 119/799 | Loss: 0.2230 | Episodes: 153 | Win count: 39 | Win rate: 0.325 | time: 22.64 minutes\n",
      "Epoch: 120/799 | Loss: 0.0618 | Episodes: 34 | Win count: 40 | Win rate: 0.331 | time: 22.69 minutes\n",
      "Epoch: 121/799 | Loss: 0.2100 | Episodes: 141 | Win count: 40 | Win rate: 0.328 | time: 22.88 minutes\n",
      "Epoch: 122/799 | Loss: 0.2372 | Episodes: 142 | Win count: 40 | Win rate: 0.325 | time: 23.13 minutes\n",
      "Epoch: 123/799 | Loss: 0.2894 | Episodes: 146 | Win count: 40 | Win rate: 0.323 | time: 23.40 minutes\n",
      "Epoch: 124/799 | Loss: 0.0949 | Episodes: 51 | Win count: 41 | Win rate: 0.328 | time: 23.49 minutes\n",
      "Epoch: 125/799 | Loss: 0.2160 | Episodes: 139 | Win count: 41 | Win rate: 0.325 | time: 23.75 minutes\n",
      "Epoch: 126/799 | Loss: 0.1582 | Episodes: 131 | Win count: 42 | Win rate: 0.331 | time: 24.01 minutes\n",
      "Epoch: 127/799 | Loss: 0.1791 | Episodes: 140 | Win count: 42 | Win rate: 0.328 | time: 24.31 minutes\n",
      "Epoch: 128/799 | Loss: 0.0643 | Episodes: 59 | Win count: 43 | Win rate: 0.333 | time: 24.42 minutes\n",
      "Epoch: 129/799 | Loss: 0.1440 | Episodes: 139 | Win count: 43 | Win rate: 0.331 | time: 24.64 minutes\n",
      "Epoch: 130/799 | Loss: 0.0470 | Episodes: 42 | Win count: 44 | Win rate: 0.336 | time: 24.72 minutes\n",
      "Epoch: 131/799 | Loss: 0.0588 | Episodes: 55 | Win count: 45 | Win rate: 0.341 | time: 24.81 minutes\n",
      "Epoch: 132/799 | Loss: 0.1519 | Episodes: 136 | Win count: 45 | Win rate: 0.338 | time: 25.05 minutes\n",
      "Epoch: 133/799 | Loss: 0.0274 | Episodes: 22 | Win count: 46 | Win rate: 0.343 | time: 25.08 minutes\n",
      "Epoch: 134/799 | Loss: 0.1661 | Episodes: 143 | Win count: 46 | Win rate: 0.341 | time: 25.31 minutes\n",
      "Epoch: 135/799 | Loss: 0.0300 | Episodes: 31 | Win count: 47 | Win rate: 0.346 | time: 25.35 minutes\n",
      "Epoch: 136/799 | Loss: 0.0365 | Episodes: 34 | Win count: 48 | Win rate: 0.350 | time: 25.40 minutes\n",
      "Epoch: 137/799 | Loss: 0.1813 | Episodes: 137 | Win count: 48 | Win rate: 0.348 | time: 25.62 minutes\n",
      "Epoch: 138/799 | Loss: 0.1560 | Episodes: 140 | Win count: 48 | Win rate: 0.345 | time: 25.84 minutes\n",
      "Epoch: 139/799 | Loss: 0.1632 | Episodes: 143 | Win count: 48 | Win rate: 0.343 | time: 26.11 minutes\n",
      "Epoch: 140/799 | Loss: 0.0066 | Episodes: 6 | Win count: 49 | Win rate: 0.348 | time: 26.12 minutes\n",
      "Epoch: 141/799 | Loss: 0.0207 | Episodes: 15 | Win count: 50 | Win rate: 0.352 | time: 26.15 minutes\n",
      "Epoch: 142/799 | Loss: 0.0640 | Episodes: 53 | Win count: 51 | Win rate: 0.357 | time: 26.26 minutes\n",
      "Epoch: 143/799 | Loss: 0.0794 | Episodes: 68 | Win count: 52 | Win rate: 0.361 | time: 26.37 minutes\n",
      "Epoch: 144/799 | Loss: 0.1775 | Episodes: 140 | Win count: 52 | Win rate: 0.359 | time: 26.62 minutes\n",
      "Epoch: 145/799 | Loss: 0.1608 | Episodes: 139 | Win count: 52 | Win rate: 0.356 | time: 26.83 minutes\n",
      "Epoch: 146/799 | Loss: 0.0935 | Episodes: 72 | Win count: 53 | Win rate: 0.361 | time: 26.93 minutes\n",
      "Epoch: 147/799 | Loss: 0.0206 | Episodes: 14 | Win count: 54 | Win rate: 0.365 | time: 26.95 minutes\n",
      "Epoch: 148/799 | Loss: 0.0327 | Episodes: 24 | Win count: 55 | Win rate: 0.369 | time: 26.98 minutes\n",
      "Epoch: 149/799 | Loss: 0.0108 | Episodes: 9 | Win count: 56 | Win rate: 0.373 | time: 27.00 minutes\n",
      "Epoch: 150/799 | Loss: 0.0438 | Episodes: 30 | Win count: 57 | Win rate: 0.377 | time: 27.05 minutes\n",
      "Epoch: 151/799 | Loss: 0.0218 | Episodes: 18 | Win count: 58 | Win rate: 0.382 | time: 27.09 minutes\n",
      "Epoch: 152/799 | Loss: 0.1805 | Episodes: 138 | Win count: 58 | Win rate: 0.379 | time: 27.28 minutes\n",
      "Epoch: 153/799 | Loss: 0.0005 | Episodes: 1 | Win count: 59 | Win rate: 0.383 | time: 27.28 minutes\n",
      "Epoch: 154/799 | Loss: 0.0308 | Episodes: 29 | Win count: 60 | Win rate: 0.387 | time: 27.32 minutes\n",
      "Epoch: 155/799 | Loss: 0.1016 | Episodes: 68 | Win count: 61 | Win rate: 0.391 | time: 27.43 minutes\n",
      "Epoch: 156/799 | Loss: 0.2115 | Episodes: 144 | Win count: 61 | Win rate: 0.389 | time: 27.68 minutes\n",
      "Epoch: 157/799 | Loss: 0.1736 | Episodes: 139 | Win count: 61 | Win rate: 0.386 | time: 27.89 minutes\n",
      "Epoch: 158/799 | Loss: 0.0073 | Episodes: 7 | Win count: 62 | Win rate: 0.390 | time: 27.90 minutes\n",
      "Epoch: 159/799 | Loss: 0.0250 | Episodes: 22 | Win count: 63 | Win rate: 0.394 | time: 27.94 minutes\n",
      "Epoch: 160/799 | Loss: 0.0463 | Episodes: 39 | Win count: 64 | Win rate: 0.398 | time: 28.01 minutes\n",
      "Epoch: 161/799 | Loss: 0.0722 | Episodes: 54 | Win count: 65 | Win rate: 0.401 | time: 28.10 minutes\n",
      "Epoch: 162/799 | Loss: 0.1802 | Episodes: 144 | Win count: 65 | Win rate: 0.399 | time: 28.35 minutes\n"
     ]
    },
    {
     "name": "stdout",
     "output_type": "stream",
     "text": [
      "Epoch: 163/799 | Loss: 0.0111 | Episodes: 10 | Win count: 66 | Win rate: 0.402 | time: 28.36 minutes\n",
      "Epoch: 164/799 | Loss: 0.0354 | Episodes: 32 | Win count: 67 | Win rate: 0.406 | time: 28.43 minutes\n",
      "Epoch: 165/799 | Loss: 0.1742 | Episodes: 138 | Win count: 67 | Win rate: 0.404 | time: 28.64 minutes\n",
      "Epoch: 166/799 | Loss: 0.1960 | Episodes: 144 | Win count: 67 | Win rate: 0.401 | time: 28.86 minutes\n",
      "Epoch: 167/799 | Loss: 0.1736 | Episodes: 144 | Win count: 67 | Win rate: 0.399 | time: 29.07 minutes\n",
      "Epoch: 168/799 | Loss: 0.1551 | Episodes: 140 | Win count: 67 | Win rate: 0.396 | time: 29.28 minutes\n",
      "Epoch: 169/799 | Loss: 0.0816 | Episodes: 69 | Win count: 68 | Win rate: 0.400 | time: 29.39 minutes\n",
      "Epoch: 170/799 | Loss: 0.1287 | Episodes: 109 | Win count: 69 | Win rate: 0.404 | time: 29.53 minutes\n",
      "Epoch: 171/799 | Loss: 0.0493 | Episodes: 41 | Win count: 70 | Win rate: 0.407 | time: 29.59 minutes\n",
      "Epoch: 172/799 | Loss: 0.2029 | Episodes: 141 | Win count: 70 | Win rate: 0.405 | time: 29.79 minutes\n",
      "Epoch: 173/799 | Loss: 0.1671 | Episodes: 139 | Win count: 70 | Win rate: 0.402 | time: 29.98 minutes\n",
      "Epoch: 174/799 | Loss: 0.1692 | Episodes: 130 | Win count: 71 | Win rate: 0.406 | time: 30.17 minutes\n",
      "Epoch: 175/799 | Loss: 0.0942 | Episodes: 72 | Win count: 72 | Win rate: 0.409 | time: 30.28 minutes\n",
      "Epoch: 176/799 | Loss: 0.1408 | Episodes: 113 | Win count: 73 | Win rate: 0.412 | time: 30.42 minutes\n",
      "Epoch: 177/799 | Loss: 0.2079 | Episodes: 140 | Win count: 73 | Win rate: 0.410 | time: 30.61 minutes\n",
      "Epoch: 178/799 | Loss: 0.2429 | Episodes: 148 | Win count: 73 | Win rate: 0.408 | time: 30.82 minutes\n",
      "Epoch: 179/799 | Loss: 0.2083 | Episodes: 144 | Win count: 73 | Win rate: 0.406 | time: 31.05 minutes\n",
      "Epoch: 180/799 | Loss: 0.0141 | Episodes: 10 | Win count: 74 | Win rate: 0.409 | time: 31.06 minutes\n",
      "Epoch: 181/799 | Loss: 0.2038 | Episodes: 159 | Win count: 75 | Win rate: 0.412 | time: 31.28 minutes\n",
      "Epoch: 182/799 | Loss: 0.0095 | Episodes: 6 | Win count: 76 | Win rate: 0.415 | time: 31.29 minutes\n",
      "Epoch: 183/799 | Loss: 0.1585 | Episodes: 134 | Win count: 76 | Win rate: 0.413 | time: 31.53 minutes\n",
      "Epoch: 184/799 | Loss: 0.0132 | Episodes: 15 | Win count: 77 | Win rate: 0.416 | time: 31.55 minutes\n",
      "Epoch: 185/799 | Loss: 0.1465 | Episodes: 140 | Win count: 77 | Win rate: 0.414 | time: 31.78 minutes\n",
      "Epoch: 186/799 | Loss: 0.1348 | Episodes: 144 | Win count: 77 | Win rate: 0.412 | time: 32.05 minutes\n",
      "Epoch: 187/799 | Loss: 0.0050 | Episodes: 5 | Win count: 78 | Win rate: 0.415 | time: 32.06 minutes\n",
      "Epoch: 188/799 | Loss: 0.0486 | Episodes: 45 | Win count: 79 | Win rate: 0.418 | time: 32.12 minutes\n",
      "Epoch: 189/799 | Loss: 0.0025 | Episodes: 2 | Win count: 80 | Win rate: 0.421 | time: 32.12 minutes\n",
      "Epoch: 190/799 | Loss: 0.0013 | Episodes: 1 | Win count: 81 | Win rate: 0.424 | time: 32.12 minutes\n",
      "Epoch: 191/799 | Loss: 0.0149 | Episodes: 16 | Win count: 82 | Win rate: 0.427 | time: 32.14 minutes\n",
      "Epoch: 192/799 | Loss: 0.0606 | Episodes: 51 | Win count: 83 | Win rate: 0.430 | time: 32.21 minutes\n",
      "Epoch: 193/799 | Loss: 0.0237 | Episodes: 21 | Win count: 84 | Win rate: 0.433 | time: 32.24 minutes\n",
      "Epoch: 194/799 | Loss: 0.1684 | Episodes: 139 | Win count: 84 | Win rate: 0.431 | time: 32.45 minutes\n",
      "Epoch: 195/799 | Loss: 0.0048 | Episodes: 6 | Win count: 85 | Win rate: 0.434 | time: 32.46 minutes\n",
      "Epoch: 196/799 | Loss: 0.0164 | Episodes: 15 | Win count: 86 | Win rate: 0.437 | time: 32.49 minutes\n",
      "Epoch: 197/799 | Loss: 0.1501 | Episodes: 136 | Win count: 86 | Win rate: 0.434 | time: 32.70 minutes\n",
      "Epoch: 198/799 | Loss: 0.0020 | Episodes: 2 | Win count: 87 | Win rate: 0.437 | time: 32.70 minutes\n",
      "Epoch: 199/799 | Loss: 0.0342 | Episodes: 40 | Win count: 88 | Win rate: 0.440 | time: 32.76 minutes\n",
      "Epoch: 200/799 | Loss: 0.0459 | Episodes: 40 | Win count: 89 | Win rate: 0.443 | time: 32.82 minutes\n",
      "Epoch: 201/799 | Loss: 0.0149 | Episodes: 15 | Win count: 90 | Win rate: 0.446 | time: 32.84 minutes\n",
      "Epoch: 202/799 | Loss: 0.1227 | Episodes: 134 | Win count: 90 | Win rate: 0.443 | time: 33.04 minutes\n",
      "Epoch: 203/799 | Loss: 0.0992 | Episodes: 138 | Win count: 90 | Win rate: 0.441 | time: 33.27 minutes\n",
      "Epoch: 204/799 | Loss: 0.0127 | Episodes: 15 | Win count: 91 | Win rate: 0.444 | time: 33.30 minutes\n",
      "Epoch: 205/799 | Loss: 0.0288 | Episodes: 36 | Win count: 92 | Win rate: 0.447 | time: 33.35 minutes\n",
      "Epoch: 206/799 | Loss: 0.0011 | Episodes: 2 | Win count: 93 | Win rate: 0.449 | time: 33.36 minutes\n",
      "Epoch: 207/799 | Loss: 0.0048 | Episodes: 7 | Win count: 94 | Win rate: 0.452 | time: 33.37 minutes\n",
      "Epoch: 208/799 | Loss: 0.0297 | Episodes: 39 | Win count: 95 | Win rate: 0.455 | time: 33.44 minutes\n",
      "Epoch: 209/799 | Loss: 0.0137 | Episodes: 15 | Win count: 96 | Win rate: 0.457 | time: 33.46 minutes\n",
      "Epoch: 210/799 | Loss: 0.1344 | Episodes: 136 | Win count: 96 | Win rate: 0.455 | time: 33.66 minutes\n",
      "Epoch: 211/799 | Loss: 0.0047 | Episodes: 6 | Win count: 97 | Win rate: 0.458 | time: 33.67 minutes\n",
      "Epoch: 212/799 | Loss: 0.0021 | Episodes: 2 | Win count: 98 | Win rate: 0.460 | time: 33.67 minutes\n",
      "Epoch: 213/799 | Loss: 0.0131 | Episodes: 19 | Win count: 99 | Win rate: 0.463 | time: 33.71 minutes\n",
      "Epoch: 214/799 | Loss: 0.0078 | Episodes: 10 | Win count: 100 | Win rate: 0.465 | time: 33.72 minutes\n",
      "Epoch: 215/799 | Loss: 0.1397 | Episodes: 141 | Win count: 100 | Win rate: 0.463 | time: 33.96 minutes\n",
      "Epoch: 216/799 | Loss: 0.0164 | Episodes: 17 | Win count: 101 | Win rate: 0.465 | time: 33.98 minutes\n",
      "Epoch: 217/799 | Loss: 0.0148 | Episodes: 15 | Win count: 102 | Win rate: 0.468 | time: 34.00 minutes\n",
      "Epoch: 218/799 | Loss: 0.1518 | Episodes: 135 | Win count: 102 | Win rate: 0.466 | time: 34.22 minutes\n",
      "Epoch: 219/799 | Loss: 0.1381 | Episodes: 141 | Win count: 102 | Win rate: 0.464 | time: 34.45 minutes\n",
      "Epoch: 220/799 | Loss: 0.1439 | Episodes: 142 | Win count: 102 | Win rate: 0.462 | time: 34.64 minutes\n",
      "Epoch: 221/799 | Loss: 0.0214 | Episodes: 24 | Win count: 103 | Win rate: 0.464 | time: 34.67 minutes\n",
      "Epoch: 222/799 | Loss: 0.0090 | Episodes: 9 | Win count: 104 | Win rate: 0.466 | time: 34.68 minutes\n",
      "Epoch: 223/799 | Loss: 0.0059 | Episodes: 4 | Win count: 105 | Win rate: 0.469 | time: 34.69 minutes\n",
      "Epoch: 224/799 | Loss: 0.0197 | Episodes: 20 | Win count: 106 | Win rate: 0.471 | time: 34.72 minutes\n",
      "Epoch: 225/799 | Loss: 0.1649 | Episodes: 144 | Win count: 106 | Win rate: 0.469 | time: 34.92 minutes\n",
      "Epoch: 226/799 | Loss: 0.1656 | Episodes: 142 | Win count: 106 | Win rate: 0.467 | time: 35.14 minutes\n",
      "Epoch: 227/799 | Loss: 0.1294 | Episodes: 134 | Win count: 106 | Win rate: 0.465 | time: 35.35 minutes\n",
      "Epoch: 228/799 | Loss: 0.0070 | Episodes: 8 | Win count: 107 | Win rate: 0.467 | time: 35.36 minutes\n",
      "Epoch: 229/799 | Loss: 0.0106 | Episodes: 11 | Win count: 108 | Win rate: 0.470 | time: 35.38 minutes\n",
      "Epoch: 230/799 | Loss: 0.0257 | Episodes: 28 | Win count: 109 | Win rate: 0.472 | time: 35.43 minutes\n",
      "Epoch: 231/799 | Loss: 0.0566 | Episodes: 51 | Win count: 110 | Win rate: 0.474 | time: 35.51 minutes\n",
      "Epoch: 232/799 | Loss: 0.1264 | Episodes: 139 | Win count: 110 | Win rate: 0.472 | time: 35.77 minutes\n",
      "Epoch: 233/799 | Loss: 0.0202 | Episodes: 25 | Win count: 111 | Win rate: 0.474 | time: 35.80 minutes\n",
      "Epoch: 234/799 | Loss: 0.0148 | Episodes: 17 | Win count: 112 | Win rate: 0.477 | time: 35.83 minutes\n",
      "Epoch: 235/799 | Loss: 0.0282 | Episodes: 34 | Win count: 113 | Win rate: 0.479 | time: 35.89 minutes\n",
      "Epoch: 236/799 | Loss: 0.1463 | Episodes: 138 | Win count: 113 | Win rate: 0.477 | time: 36.10 minutes\n",
      "Epoch: 237/799 | Loss: 0.0403 | Episodes: 36 | Win count: 114 | Win rate: 0.479 | time: 36.15 minutes\n",
      "Epoch: 238/799 | Loss: 0.0371 | Episodes: 26 | Win count: 115 | Win rate: 0.481 | time: 36.19 minutes\n",
      "Epoch: 239/799 | Loss: 0.1826 | Episodes: 139 | Win count: 115 | Win rate: 0.479 | time: 36.43 minutes\n",
      "Epoch: 240/799 | Loss: 0.1649 | Episodes: 144 | Win count: 115 | Win rate: 0.477 | time: 36.66 minutes\n",
      "Epoch: 241/799 | Loss: 0.0469 | Episodes: 44 | Win count: 116 | Win rate: 0.479 | time: 36.74 minutes\n",
      "Epoch: 242/799 | Loss: 0.0706 | Episodes: 61 | Win count: 117 | Win rate: 0.481 | time: 36.85 minutes\n",
      "Epoch: 243/799 | Loss: 0.0107 | Episodes: 12 | Win count: 118 | Win rate: 0.484 | time: 36.87 minutes\n"
     ]
    },
    {
     "name": "stdout",
     "output_type": "stream",
     "text": [
      "Epoch: 244/799 | Loss: 0.0374 | Episodes: 30 | Win count: 119 | Win rate: 0.486 | time: 36.93 minutes\n",
      "Epoch: 245/799 | Loss: 0.1049 | Episodes: 76 | Win count: 120 | Win rate: 0.488 | time: 37.05 minutes\n",
      "Epoch: 246/799 | Loss: 0.1051 | Episodes: 71 | Win count: 121 | Win rate: 0.490 | time: 37.19 minutes\n",
      "Epoch: 247/799 | Loss: 0.0732 | Episodes: 53 | Win count: 122 | Win rate: 0.492 | time: 37.28 minutes\n",
      "Epoch: 248/799 | Loss: 0.0803 | Episodes: 53 | Win count: 123 | Win rate: 0.494 | time: 37.36 minutes\n",
      "Epoch: 249/799 | Loss: 0.0453 | Episodes: 30 | Win count: 124 | Win rate: 0.496 | time: 37.41 minutes\n",
      "Epoch: 250/799 | Loss: 0.0584 | Episodes: 36 | Win count: 125 | Win rate: 0.498 | time: 37.47 minutes\n",
      "Epoch: 251/799 | Loss: 0.1509 | Episodes: 94 | Win count: 126 | Win rate: 0.500 | time: 37.60 minutes\n",
      "Epoch: 252/799 | Loss: 0.1724 | Episodes: 124 | Win count: 127 | Win rate: 0.502 | time: 37.80 minutes\n",
      "Epoch: 253/799 | Loss: 0.1001 | Episodes: 79 | Win count: 128 | Win rate: 0.504 | time: 37.92 minutes\n",
      "Epoch: 254/799 | Loss: 0.0524 | Episodes: 39 | Win count: 129 | Win rate: 0.506 | time: 37.98 minutes\n",
      "Epoch: 255/799 | Loss: 0.0180 | Episodes: 15 | Win count: 130 | Win rate: 0.508 | time: 38.00 minutes\n",
      "Epoch: 256/799 | Loss: 0.0197 | Episodes: 14 | Win count: 131 | Win rate: 0.510 | time: 38.03 minutes\n",
      "Epoch: 257/799 | Loss: 0.1591 | Episodes: 112 | Win count: 132 | Win rate: 0.512 | time: 38.21 minutes\n",
      "Epoch: 258/799 | Loss: 0.0973 | Episodes: 68 | Win count: 133 | Win rate: 0.514 | time: 38.31 minutes\n",
      "Epoch: 259/799 | Loss: 0.1035 | Episodes: 73 | Win count: 134 | Win rate: 0.515 | time: 38.41 minutes\n",
      "Epoch: 260/799 | Loss: 0.0743 | Episodes: 51 | Win count: 135 | Win rate: 0.517 | time: 38.49 minutes\n",
      "Epoch: 261/799 | Loss: 0.0347 | Episodes: 28 | Win count: 136 | Win rate: 0.519 | time: 38.54 minutes\n",
      "Epoch: 262/799 | Loss: 0.1842 | Episodes: 150 | Win count: 136 | Win rate: 0.517 | time: 38.77 minutes\n",
      "Epoch: 263/799 | Loss: 0.0500 | Episodes: 38 | Win count: 137 | Win rate: 0.519 | time: 38.83 minutes\n",
      "Epoch: 264/799 | Loss: 0.0091 | Episodes: 7 | Win count: 138 | Win rate: 0.521 | time: 38.84 minutes\n",
      "Epoch: 265/799 | Loss: 0.0575 | Episodes: 54 | Win count: 139 | Win rate: 0.523 | time: 38.92 minutes\n",
      "Epoch: 266/799 | Loss: 0.0393 | Episodes: 35 | Win count: 140 | Win rate: 0.524 | time: 38.99 minutes\n",
      "Epoch: 267/799 | Loss: 0.1128 | Episodes: 96 | Win count: 141 | Win rate: 0.526 | time: 39.15 minutes\n",
      "Epoch: 268/799 | Loss: 0.0463 | Episodes: 42 | Win count: 142 | Win rate: 0.528 | time: 39.21 minutes\n",
      "Epoch: 269/799 | Loss: 0.0627 | Episodes: 50 | Win count: 143 | Win rate: 0.530 | time: 39.30 minutes\n",
      "Epoch: 270/799 | Loss: 0.0494 | Episodes: 44 | Win count: 144 | Win rate: 0.531 | time: 39.36 minutes\n",
      "Epoch: 271/799 | Loss: 0.0772 | Episodes: 56 | Win count: 145 | Win rate: 0.533 | time: 39.44 minutes\n",
      "Epoch: 272/799 | Loss: 0.0145 | Episodes: 11 | Win count: 146 | Win rate: 0.535 | time: 39.46 minutes\n",
      "Epoch: 273/799 | Loss: 0.0220 | Episodes: 17 | Win count: 147 | Win rate: 0.536 | time: 39.48 minutes\n",
      "Epoch: 274/799 | Loss: 0.0027 | Episodes: 2 | Win count: 148 | Win rate: 0.538 | time: 39.48 minutes\n",
      "Epoch: 275/799 | Loss: 0.0449 | Episodes: 33 | Win count: 149 | Win rate: 0.540 | time: 39.53 minutes\n",
      "Epoch: 276/799 | Loss: 0.0109 | Episodes: 7 | Win count: 150 | Win rate: 0.542 | time: 39.54 minutes\n",
      "Epoch: 277/799 | Loss: 0.0759 | Episodes: 51 | Win count: 151 | Win rate: 0.543 | time: 39.62 minutes\n",
      "Epoch: 278/799 | Loss: 0.1331 | Episodes: 80 | Win count: 152 | Win rate: 0.545 | time: 39.74 minutes\n",
      "Epoch: 279/799 | Loss: 0.1136 | Episodes: 64 | Win count: 153 | Win rate: 0.546 | time: 39.84 minutes\n",
      "Epoch: 280/799 | Loss: 0.0450 | Episodes: 29 | Win count: 154 | Win rate: 0.548 | time: 39.88 minutes\n",
      "Epoch: 281/799 | Loss: 0.0569 | Episodes: 36 | Win count: 155 | Win rate: 0.550 | time: 39.93 minutes\n",
      "Epoch: 282/799 | Loss: 0.0273 | Episodes: 20 | Win count: 156 | Win rate: 0.551 | time: 39.96 minutes\n",
      "Epoch: 283/799 | Loss: 0.0601 | Episodes: 40 | Win count: 157 | Win rate: 0.553 | time: 40.03 minutes\n",
      "Epoch: 284/799 | Loss: 0.0258 | Episodes: 18 | Win count: 158 | Win rate: 0.554 | time: 40.06 minutes\n",
      "Epoch: 285/799 | Loss: 0.1629 | Episodes: 133 | Win count: 158 | Win rate: 0.552 | time: 40.25 minutes\n",
      "Epoch: 286/799 | Loss: 0.0068 | Episodes: 6 | Win count: 159 | Win rate: 0.554 | time: 40.26 minutes\n",
      "Epoch: 287/799 | Loss: 0.0408 | Episodes: 38 | Win count: 160 | Win rate: 0.556 | time: 40.32 minutes\n",
      "Epoch: 288/799 | Loss: 0.0379 | Episodes: 36 | Win count: 161 | Win rate: 0.557 | time: 40.38 minutes\n",
      "Epoch: 289/799 | Loss: 0.0429 | Episodes: 36 | Win count: 162 | Win rate: 0.559 | time: 40.42 minutes\n",
      "Epoch: 290/799 | Loss: 0.0088 | Episodes: 8 | Win count: 163 | Win rate: 0.560 | time: 40.44 minutes\n",
      "Epoch: 291/799 | Loss: 0.0018 | Episodes: 2 | Win count: 164 | Win rate: 0.562 | time: 40.44 minutes\n",
      "Epoch: 292/799 | Loss: 0.0280 | Episodes: 26 | Win count: 165 | Win rate: 0.563 | time: 40.48 minutes\n",
      "Epoch: 293/799 | Loss: 0.0371 | Episodes: 37 | Win count: 166 | Win rate: 0.565 | time: 40.54 minutes\n",
      "Epoch: 294/799 | Loss: 0.0394 | Episodes: 36 | Win count: 167 | Win rate: 0.566 | time: 40.59 minutes\n",
      "Epoch: 295/799 | Loss: 0.0153 | Episodes: 14 | Win count: 168 | Win rate: 0.568 | time: 40.61 minutes\n",
      "Epoch: 296/799 | Loss: 0.1491 | Episodes: 135 | Win count: 169 | Win rate: 0.569 | time: 40.83 minutes\n",
      "Epoch: 297/799 | Loss: 0.0329 | Episodes: 32 | Win count: 170 | Win rate: 0.570 | time: 40.88 minutes\n",
      "Epoch: 298/799 | Loss: 0.0377 | Episodes: 34 | Win count: 171 | Win rate: 0.572 | time: 40.94 minutes\n",
      "Epoch: 299/799 | Loss: 0.0990 | Episodes: 88 | Win count: 172 | Win rate: 0.573 | time: 41.09 minutes\n",
      "Epoch: 300/799 | Loss: 0.0261 | Episodes: 22 | Win count: 173 | Win rate: 0.575 | time: 41.12 minutes\n",
      "Epoch: 301/799 | Loss: 0.0201 | Episodes: 21 | Win count: 174 | Win rate: 0.576 | time: 41.15 minutes\n",
      "Epoch: 302/799 | Loss: 0.0132 | Episodes: 15 | Win count: 175 | Win rate: 0.578 | time: 41.17 minutes\n",
      "Epoch: 303/799 | Loss: 0.0345 | Episodes: 35 | Win count: 176 | Win rate: 0.579 | time: 41.22 minutes\n",
      "Epoch: 304/799 | Loss: 0.0208 | Episodes: 21 | Win count: 177 | Win rate: 0.580 | time: 41.26 minutes\n",
      "Epoch: 305/799 | Loss: 0.0417 | Episodes: 42 | Win count: 178 | Win rate: 0.582 | time: 41.31 minutes\n",
      "Epoch: 306/799 | Loss: 0.0283 | Episodes: 32 | Win count: 179 | Win rate: 0.583 | time: 41.37 minutes\n",
      "Epoch: 307/799 | Loss: 0.0242 | Episodes: 31 | Win count: 180 | Win rate: 0.584 | time: 41.41 minutes\n",
      "Epoch: 308/799 | Loss: 0.0267 | Episodes: 27 | Win count: 181 | Win rate: 0.586 | time: 41.45 minutes\n",
      "Epoch: 309/799 | Loss: 0.0103 | Episodes: 12 | Win count: 182 | Win rate: 0.587 | time: 41.47 minutes\n",
      "Epoch: 310/799 | Loss: 0.0422 | Episodes: 40 | Win count: 183 | Win rate: 0.588 | time: 41.53 minutes\n",
      "Epoch: 311/799 | Loss: 0.0061 | Episodes: 6 | Win count: 184 | Win rate: 0.590 | time: 41.53 minutes\n",
      "Epoch: 312/799 | Loss: 0.0109 | Episodes: 10 | Win count: 185 | Win rate: 0.591 | time: 41.54 minutes\n",
      "Epoch: 313/799 | Loss: 0.0292 | Episodes: 25 | Win count: 186 | Win rate: 0.592 | time: 41.59 minutes\n",
      "Epoch: 314/799 | Loss: 0.0325 | Episodes: 27 | Win count: 187 | Win rate: 0.594 | time: 41.63 minutes\n",
      "Epoch: 315/799 | Loss: 0.0765 | Episodes: 64 | Win count: 188 | Win rate: 0.595 | time: 41.73 minutes\n",
      "Epoch: 316/799 | Loss: 0.0164 | Episodes: 14 | Win count: 189 | Win rate: 0.596 | time: 41.75 minutes\n",
      "Epoch: 317/799 | Loss: 0.0788 | Episodes: 58 | Win count: 190 | Win rate: 0.597 | time: 41.85 minutes\n",
      "Epoch: 318/799 | Loss: 0.0453 | Episodes: 31 | Win count: 191 | Win rate: 0.599 | time: 41.91 minutes\n",
      "Epoch: 319/799 | Loss: 0.0596 | Episodes: 42 | Win count: 192 | Win rate: 0.600 | time: 41.97 minutes\n",
      "Epoch: 320/799 | Loss: 0.0118 | Episodes: 9 | Win count: 193 | Win rate: 0.601 | time: 41.99 minutes\n",
      "Epoch: 321/799 | Loss: 0.1637 | Episodes: 104 | Win count: 194 | Win rate: 0.602 | time: 42.15 minutes\n",
      "Epoch: 322/799 | Loss: 0.0931 | Episodes: 63 | Win count: 195 | Win rate: 0.604 | time: 42.25 minutes\n",
      "Epoch: 323/799 | Loss: 0.0078 | Episodes: 5 | Win count: 196 | Win rate: 0.605 | time: 42.26 minutes\n",
      "Epoch: 324/799 | Loss: 0.0515 | Episodes: 36 | Win count: 197 | Win rate: 0.606 | time: 42.31 minutes\n"
     ]
    },
    {
     "name": "stdout",
     "output_type": "stream",
     "text": [
      "Epoch: 325/799 | Loss: 0.0419 | Episodes: 30 | Win count: 198 | Win rate: 0.607 | time: 42.36 minutes\n",
      "Epoch: 326/799 | Loss: 0.0461 | Episodes: 36 | Win count: 199 | Win rate: 0.609 | time: 42.41 minutes\n",
      "Epoch: 327/799 | Loss: 0.0321 | Episodes: 24 | Win count: 200 | Win rate: 0.610 | time: 42.45 minutes\n",
      "Epoch: 328/799 | Loss: 0.0253 | Episodes: 22 | Win count: 201 | Win rate: 0.611 | time: 42.48 minutes\n",
      "Epoch: 329/799 | Loss: 0.1062 | Episodes: 93 | Win count: 202 | Win rate: 0.612 | time: 42.62 minutes\n",
      "Epoch: 330/799 | Loss: 0.0145 | Episodes: 16 | Win count: 203 | Win rate: 0.613 | time: 42.65 minutes\n",
      "Epoch: 331/799 | Loss: 0.0304 | Episodes: 27 | Win count: 204 | Win rate: 0.614 | time: 42.70 minutes\n",
      "Epoch: 332/799 | Loss: 0.0382 | Episodes: 35 | Win count: 205 | Win rate: 0.616 | time: 42.75 minutes\n",
      "Epoch: 333/799 | Loss: 0.0230 | Episodes: 22 | Win count: 206 | Win rate: 0.617 | time: 42.80 minutes\n",
      "Epoch: 334/799 | Loss: 0.0280 | Episodes: 28 | Win count: 207 | Win rate: 0.618 | time: 42.85 minutes\n",
      "Epoch: 335/799 | Loss: 0.0696 | Episodes: 53 | Win count: 208 | Win rate: 0.619 | time: 42.96 minutes\n",
      "Epoch: 336/799 | Loss: 0.0264 | Episodes: 21 | Win count: 209 | Win rate: 0.620 | time: 42.99 minutes\n",
      "Epoch: 337/799 | Loss: 0.0127 | Episodes: 13 | Win count: 210 | Win rate: 0.621 | time: 43.03 minutes\n",
      "Epoch: 338/799 | Loss: 0.0165 | Episodes: 16 | Win count: 211 | Win rate: 0.622 | time: 43.06 minutes\n",
      "Epoch: 339/799 | Loss: 0.0100 | Episodes: 10 | Win count: 212 | Win rate: 0.624 | time: 43.09 minutes\n",
      "Epoch: 340/799 | Loss: 0.0036 | Episodes: 3 | Win count: 213 | Win rate: 0.625 | time: 43.11 minutes\n",
      "Epoch: 341/799 | Loss: 0.0381 | Episodes: 38 | Win count: 214 | Win rate: 0.626 | time: 43.17 minutes\n",
      "Epoch: 342/799 | Loss: 0.0406 | Episodes: 44 | Win count: 215 | Win rate: 0.627 | time: 43.24 minutes\n",
      "Epoch: 343/799 | Loss: 0.0207 | Episodes: 28 | Win count: 216 | Win rate: 0.628 | time: 43.30 minutes\n",
      "Epoch: 344/799 | Loss: 0.0156 | Episodes: 18 | Win count: 217 | Win rate: 0.629 | time: 43.33 minutes\n",
      "Epoch: 345/799 | Loss: 0.0231 | Episodes: 27 | Win count: 218 | Win rate: 0.630 | time: 43.37 minutes\n",
      "Epoch: 346/799 | Loss: 0.0054 | Episodes: 7 | Win count: 219 | Win rate: 0.631 | time: 43.39 minutes\n",
      "Epoch: 347/799 | Loss: 0.1067 | Episodes: 129 | Win count: 220 | Win rate: 0.632 | time: 43.57 minutes\n",
      "Epoch: 348/799 | Loss: 0.0353 | Episodes: 38 | Win count: 221 | Win rate: 0.633 | time: 43.64 minutes\n",
      "Epoch: 349/799 | Loss: 0.0259 | Episodes: 27 | Win count: 222 | Win rate: 0.634 | time: 43.67 minutes\n",
      "Epoch: 350/799 | Loss: 0.0329 | Episodes: 33 | Win count: 223 | Win rate: 0.635 | time: 43.73 minutes\n",
      "Epoch: 351/799 | Loss: 0.0533 | Episodes: 70 | Win count: 224 | Win rate: 0.636 | time: 43.84 minutes\n",
      "Epoch: 352/799 | Loss: 0.0065 | Episodes: 9 | Win count: 225 | Win rate: 0.637 | time: 43.86 minutes\n",
      "Epoch: 353/799 | Loss: 0.0124 | Episodes: 16 | Win count: 226 | Win rate: 0.638 | time: 43.89 minutes\n",
      "Epoch: 354/799 | Loss: 0.0008 | Episodes: 1 | Win count: 227 | Win rate: 0.639 | time: 43.90 minutes\n",
      "Epoch: 355/799 | Loss: 0.0346 | Episodes: 44 | Win count: 228 | Win rate: 0.640 | time: 43.99 minutes\n",
      "Epoch: 356/799 | Loss: 0.0014 | Episodes: 2 | Win count: 229 | Win rate: 0.641 | time: 44.00 minutes\n",
      "Epoch: 357/799 | Loss: 0.0107 | Episodes: 15 | Win count: 230 | Win rate: 0.642 | time: 44.03 minutes\n",
      "Epoch: 358/799 | Loss: 0.0539 | Episodes: 68 | Win count: 231 | Win rate: 0.643 | time: 44.14 minutes\n",
      "Epoch: 359/799 | Loss: 0.0077 | Episodes: 9 | Win count: 232 | Win rate: 0.644 | time: 44.16 minutes\n",
      "Epoch: 360/799 | Loss: 0.0374 | Episodes: 40 | Win count: 233 | Win rate: 0.645 | time: 44.23 minutes\n",
      "Epoch: 361/799 | Loss: 0.0451 | Episodes: 44 | Win count: 234 | Win rate: 0.646 | time: 44.30 minutes\n",
      "Epoch: 362/799 | Loss: 0.0504 | Episodes: 46 | Win count: 235 | Win rate: 0.647 | time: 44.37 minutes\n",
      "Epoch: 363/799 | Loss: 0.0188 | Episodes: 21 | Win count: 236 | Win rate: 0.648 | time: 44.42 minutes\n",
      "Epoch: 364/799 | Loss: 0.0009 | Episodes: 1 | Win count: 237 | Win rate: 0.649 | time: 44.43 minutes\n",
      "Epoch: 365/799 | Loss: 0.0110 | Episodes: 12 | Win count: 238 | Win rate: 0.650 | time: 44.46 minutes\n",
      "Epoch: 366/799 | Loss: 0.0391 | Episodes: 39 | Win count: 239 | Win rate: 0.651 | time: 44.53 minutes\n",
      "Epoch: 367/799 | Loss: 0.0106 | Episodes: 10 | Win count: 240 | Win rate: 0.652 | time: 44.56 minutes\n",
      "Epoch: 368/799 | Loss: 0.0395 | Episodes: 38 | Win count: 241 | Win rate: 0.653 | time: 44.62 minutes\n",
      "Epoch: 369/799 | Loss: 0.0044 | Episodes: 4 | Win count: 242 | Win rate: 0.654 | time: 44.63 minutes\n",
      "Epoch: 370/799 | Loss: 0.0273 | Episodes: 27 | Win count: 243 | Win rate: 0.655 | time: 44.68 minutes\n",
      "Epoch: 371/799 | Loss: 0.0188 | Episodes: 21 | Win count: 244 | Win rate: 0.656 | time: 44.72 minutes\n",
      "Epoch: 372/799 | Loss: 0.0211 | Episodes: 24 | Win count: 245 | Win rate: 0.657 | time: 44.76 minutes\n",
      "Epoch: 373/799 | Loss: 0.0126 | Episodes: 15 | Win count: 246 | Win rate: 0.658 | time: 44.79 minutes\n",
      "Epoch: 374/799 | Loss: 0.0137 | Episodes: 17 | Win count: 247 | Win rate: 0.659 | time: 44.82 minutes\n",
      "Epoch: 375/799 | Loss: 0.0289 | Episodes: 34 | Win count: 248 | Win rate: 0.660 | time: 44.88 minutes\n",
      "Epoch: 376/799 | Loss: 0.0132 | Episodes: 21 | Win count: 249 | Win rate: 0.660 | time: 44.92 minutes\n",
      "Epoch: 377/799 | Loss: 0.0126 | Episodes: 19 | Win count: 250 | Win rate: 0.661 | time: 44.96 minutes\n",
      "Epoch: 378/799 | Loss: 0.0064 | Episodes: 6 | Win count: 251 | Win rate: 0.662 | time: 44.98 minutes\n",
      "Epoch: 379/799 | Loss: 0.0142 | Episodes: 23 | Win count: 252 | Win rate: 0.663 | time: 45.03 minutes\n",
      "Epoch: 380/799 | Loss: 0.0012 | Episodes: 2 | Win count: 253 | Win rate: 0.664 | time: 45.03 minutes\n",
      "Epoch: 381/799 | Loss: 0.0275 | Episodes: 31 | Win count: 254 | Win rate: 0.665 | time: 45.09 minutes\n",
      "Epoch: 382/799 | Loss: 0.0269 | Episodes: 34 | Win count: 255 | Win rate: 0.666 | time: 45.16 minutes\n",
      "Epoch: 383/799 | Loss: 0.0182 | Episodes: 28 | Win count: 256 | Win rate: 0.667 | time: 45.21 minutes\n",
      "Epoch: 384/799 | Loss: 0.0112 | Episodes: 16 | Win count: 257 | Win rate: 0.668 | time: 45.24 minutes\n",
      "Epoch: 385/799 | Loss: 0.0126 | Episodes: 24 | Win count: 258 | Win rate: 0.668 | time: 45.28 minutes\n",
      "Epoch: 386/799 | Loss: 0.0113 | Episodes: 21 | Win count: 259 | Win rate: 0.669 | time: 45.33 minutes\n",
      "Epoch: 387/799 | Loss: 0.0291 | Episodes: 43 | Win count: 260 | Win rate: 0.670 | time: 45.41 minutes\n",
      "Epoch: 388/799 | Loss: 0.0151 | Episodes: 18 | Win count: 261 | Win rate: 0.671 | time: 45.44 minutes\n",
      "Epoch: 389/799 | Loss: 0.0095 | Episodes: 18 | Win count: 262 | Win rate: 0.672 | time: 45.48 minutes\n",
      "Epoch: 390/799 | Loss: 0.0058 | Episodes: 11 | Win count: 263 | Win rate: 0.673 | time: 45.51 minutes\n",
      "Epoch: 391/799 | Loss: 0.0028 | Episodes: 6 | Win count: 264 | Win rate: 0.673 | time: 45.53 minutes\n",
      "Epoch: 392/799 | Loss: 0.0170 | Episodes: 32 | Win count: 265 | Win rate: 0.674 | time: 45.59 minutes\n",
      "Epoch: 393/799 | Loss: 0.0081 | Episodes: 15 | Win count: 266 | Win rate: 0.675 | time: 45.62 minutes\n",
      "Epoch: 394/799 | Loss: 0.0096 | Episodes: 15 | Win count: 267 | Win rate: 0.676 | time: 45.67 minutes\n",
      "Epoch: 395/799 | Loss: 0.0055 | Episodes: 10 | Win count: 268 | Win rate: 0.677 | time: 45.70 minutes\n",
      "Epoch: 396/799 | Loss: 0.0130 | Episodes: 23 | Win count: 269 | Win rate: 0.678 | time: 45.76 minutes\n",
      "Epoch: 397/799 | Loss: 0.0279 | Episodes: 50 | Win count: 270 | Win rate: 0.678 | time: 45.87 minutes\n",
      "Epoch: 398/799 | Loss: 0.0157 | Episodes: 24 | Win count: 271 | Win rate: 0.679 | time: 45.93 minutes\n",
      "Epoch: 399/799 | Loss: 0.0154 | Episodes: 28 | Win count: 272 | Win rate: 0.680 | time: 45.99 minutes\n",
      "Epoch: 400/799 | Loss: 0.0170 | Episodes: 27 | Win count: 273 | Win rate: 0.681 | time: 46.08 minutes\n",
      "Epoch: 401/799 | Loss: 0.0305 | Episodes: 42 | Win count: 274 | Win rate: 0.682 | time: 46.19 minutes\n",
      "Epoch: 402/799 | Loss: 0.0326 | Episodes: 43 | Win count: 275 | Win rate: 0.682 | time: 46.29 minutes\n",
      "Epoch: 403/799 | Loss: 0.0083 | Episodes: 9 | Win count: 276 | Win rate: 0.683 | time: 46.31 minutes\n",
      "Epoch: 404/799 | Loss: 0.0143 | Episodes: 17 | Win count: 277 | Win rate: 0.684 | time: 46.35 minutes\n",
      "Epoch: 405/799 | Loss: 0.0205 | Episodes: 27 | Win count: 278 | Win rate: 0.685 | time: 46.42 minutes\n"
     ]
    },
    {
     "name": "stdout",
     "output_type": "stream",
     "text": [
      "Epoch: 406/799 | Loss: 0.0456 | Episodes: 55 | Win count: 279 | Win rate: 0.686 | time: 46.53 minutes\n",
      "Epoch: 407/799 | Loss: 0.0180 | Episodes: 20 | Win count: 280 | Win rate: 0.686 | time: 46.58 minutes\n",
      "Epoch: 408/799 | Loss: 0.0413 | Episodes: 44 | Win count: 281 | Win rate: 0.687 | time: 46.66 minutes\n",
      "Epoch: 409/799 | Loss: 0.0029 | Episodes: 4 | Win count: 282 | Win rate: 0.688 | time: 46.67 minutes\n",
      "Epoch: 410/799 | Loss: 0.0243 | Episodes: 24 | Win count: 283 | Win rate: 0.689 | time: 46.72 minutes\n",
      "Epoch: 411/799 | Loss: 0.0206 | Episodes: 22 | Win count: 284 | Win rate: 0.689 | time: 46.76 minutes\n",
      "Epoch: 412/799 | Loss: 0.0369 | Episodes: 36 | Win count: 285 | Win rate: 0.690 | time: 46.83 minutes\n",
      "Epoch: 413/799 | Loss: 0.0574 | Episodes: 55 | Win count: 286 | Win rate: 0.691 | time: 46.91 minutes\n",
      "Epoch: 414/799 | Loss: 0.0271 | Episodes: 32 | Win count: 287 | Win rate: 0.692 | time: 46.98 minutes\n",
      "Epoch: 415/799 | Loss: 0.0220 | Episodes: 26 | Win count: 288 | Win rate: 0.692 | time: 47.03 minutes\n",
      "Epoch: 416/799 | Loss: 0.0095 | Episodes: 10 | Win count: 289 | Win rate: 0.693 | time: 47.05 minutes\n",
      "Epoch: 417/799 | Loss: 0.0322 | Episodes: 35 | Win count: 290 | Win rate: 0.694 | time: 47.12 minutes\n",
      "Epoch: 418/799 | Loss: 0.0635 | Episodes: 60 | Win count: 291 | Win rate: 0.695 | time: 47.23 minutes\n",
      "Epoch: 419/799 | Loss: 0.0085 | Episodes: 9 | Win count: 292 | Win rate: 0.695 | time: 47.25 minutes\n",
      "Epoch: 420/799 | Loss: 0.0076 | Episodes: 9 | Win count: 293 | Win rate: 0.696 | time: 47.27 minutes\n",
      "Epoch: 421/799 | Loss: 0.0274 | Episodes: 30 | Win count: 294 | Win rate: 0.697 | time: 47.33 minutes\n",
      "Epoch: 422/799 | Loss: 0.0427 | Episodes: 42 | Win count: 295 | Win rate: 0.697 | time: 47.42 minutes\n",
      "Epoch: 423/799 | Loss: 0.0376 | Episodes: 38 | Win count: 296 | Win rate: 0.698 | time: 47.50 minutes\n",
      "Epoch: 424/799 | Loss: 0.0388 | Episodes: 36 | Win count: 297 | Win rate: 0.699 | time: 47.57 minutes\n",
      "Epoch: 425/799 | Loss: 0.0060 | Episodes: 4 | Win count: 298 | Win rate: 0.700 | time: 47.58 minutes\n",
      "Epoch: 426/799 | Loss: 0.0209 | Episodes: 22 | Win count: 299 | Win rate: 0.700 | time: 47.63 minutes\n",
      "Epoch: 427/799 | Loss: 0.0556 | Episodes: 60 | Win count: 300 | Win rate: 0.701 | time: 47.74 minutes\n",
      "Epoch: 428/799 | Loss: 0.0044 | Episodes: 5 | Win count: 301 | Win rate: 0.702 | time: 47.76 minutes\n",
      "Epoch: 429/799 | Loss: 0.0039 | Episodes: 4 | Win count: 302 | Win rate: 0.702 | time: 47.78 minutes\n",
      "Epoch: 430/799 | Loss: 0.0397 | Episodes: 36 | Win count: 303 | Win rate: 0.703 | time: 47.85 minutes\n",
      "Epoch: 431/799 | Loss: 0.0285 | Episodes: 35 | Win count: 304 | Win rate: 0.704 | time: 47.92 minutes\n",
      "Epoch: 432/799 | Loss: 0.0011 | Episodes: 1 | Win count: 305 | Win rate: 0.704 | time: 47.94 minutes\n",
      "Epoch: 433/799 | Loss: 0.0216 | Episodes: 23 | Win count: 306 | Win rate: 0.705 | time: 47.99 minutes\n",
      "Epoch: 434/799 | Loss: 0.0232 | Episodes: 25 | Win count: 307 | Win rate: 0.706 | time: 48.04 minutes\n",
      "Epoch: 435/799 | Loss: 0.0730 | Episodes: 59 | Win count: 308 | Win rate: 0.706 | time: 48.15 minutes\n",
      "Epoch: 436/799 | Loss: 0.0245 | Episodes: 25 | Win count: 309 | Win rate: 0.707 | time: 48.20 minutes\n",
      "Epoch: 437/799 | Loss: 0.0226 | Episodes: 22 | Win count: 310 | Win rate: 0.708 | time: 48.24 minutes\n",
      "Epoch: 438/799 | Loss: 0.0119 | Episodes: 10 | Win count: 311 | Win rate: 0.708 | time: 48.26 minutes\n",
      "Epoch: 439/799 | Loss: 0.0268 | Episodes: 25 | Win count: 312 | Win rate: 0.709 | time: 48.30 minutes\n",
      "Epoch: 440/799 | Loss: 0.0222 | Episodes: 23 | Win count: 313 | Win rate: 0.710 | time: 48.35 minutes\n",
      "Epoch: 441/799 | Loss: 0.0183 | Episodes: 24 | Win count: 314 | Win rate: 0.710 | time: 48.40 minutes\n",
      "Epoch: 442/799 | Loss: 0.0046 | Episodes: 7 | Win count: 315 | Win rate: 0.711 | time: 48.42 minutes\n",
      "Epoch: 443/799 | Loss: 0.0142 | Episodes: 25 | Win count: 316 | Win rate: 0.712 | time: 48.47 minutes\n",
      "Epoch: 444/799 | Loss: 0.0579 | Episodes: 74 | Win count: 317 | Win rate: 0.712 | time: 48.59 minutes\n",
      "Epoch: 445/799 | Loss: 0.0412 | Episodes: 46 | Win count: 318 | Win rate: 0.713 | time: 48.66 minutes\n",
      "Epoch: 446/799 | Loss: 0.0145 | Episodes: 17 | Win count: 319 | Win rate: 0.714 | time: 48.69 minutes\n",
      "Epoch: 447/799 | Loss: 0.0119 | Episodes: 15 | Win count: 320 | Win rate: 0.714 | time: 48.71 minutes\n",
      "Epoch: 448/799 | Loss: 0.0064 | Episodes: 10 | Win count: 321 | Win rate: 0.715 | time: 48.74 minutes\n",
      "Epoch: 449/799 | Loss: 0.0096 | Episodes: 10 | Win count: 322 | Win rate: 0.716 | time: 48.76 minutes\n",
      "Epoch: 450/799 | Loss: 0.0068 | Episodes: 9 | Win count: 323 | Win rate: 0.716 | time: 48.78 minutes\n",
      "Epoch: 451/799 | Loss: 0.0305 | Episodes: 36 | Win count: 324 | Win rate: 0.717 | time: 48.87 minutes\n",
      "Epoch: 452/799 | Loss: 0.0222 | Episodes: 26 | Win count: 325 | Win rate: 0.717 | time: 48.93 minutes\n",
      "Epoch: 453/799 | Loss: 0.0037 | Episodes: 4 | Win count: 326 | Win rate: 0.718 | time: 48.94 minutes\n",
      "Epoch: 454/799 | Loss: 0.0238 | Episodes: 33 | Win count: 327 | Win rate: 0.719 | time: 48.99 minutes\n",
      "Epoch: 455/799 | Loss: 0.0085 | Episodes: 13 | Win count: 328 | Win rate: 0.719 | time: 49.02 minutes\n",
      "Epoch: 456/799 | Loss: 0.0173 | Episodes: 18 | Win count: 329 | Win rate: 0.720 | time: 49.05 minutes\n",
      "Epoch: 457/799 | Loss: 0.0007 | Episodes: 1 | Win count: 330 | Win rate: 0.721 | time: 49.05 minutes\n",
      "Epoch: 458/799 | Loss: 0.0260 | Episodes: 30 | Win count: 331 | Win rate: 0.721 | time: 49.12 minutes\n",
      "Epoch: 459/799 | Loss: 0.0425 | Episodes: 47 | Win count: 332 | Win rate: 0.722 | time: 49.20 minutes\n",
      "Epoch: 460/799 | Loss: 0.0365 | Episodes: 35 | Win count: 333 | Win rate: 0.722 | time: 49.27 minutes\n",
      "Epoch: 461/799 | Loss: 0.0092 | Episodes: 10 | Win count: 334 | Win rate: 0.723 | time: 49.29 minutes\n",
      "Epoch: 462/799 | Loss: 0.0251 | Episodes: 26 | Win count: 335 | Win rate: 0.724 | time: 49.34 minutes\n",
      "Epoch: 463/799 | Loss: 0.0217 | Episodes: 20 | Win count: 336 | Win rate: 0.724 | time: 49.38 minutes\n",
      "Epoch: 464/799 | Loss: 0.0327 | Episodes: 29 | Win count: 337 | Win rate: 0.725 | time: 49.43 minutes\n",
      "Epoch: 465/799 | Loss: 0.0392 | Episodes: 40 | Win count: 338 | Win rate: 0.725 | time: 49.50 minutes\n",
      "Epoch: 466/799 | Loss: 0.0076 | Episodes: 9 | Win count: 339 | Win rate: 0.726 | time: 49.53 minutes\n",
      "Epoch: 467/799 | Loss: 0.0439 | Episodes: 46 | Win count: 340 | Win rate: 0.726 | time: 49.61 minutes\n",
      "Epoch: 468/799 | Loss: 0.0340 | Episodes: 37 | Win count: 341 | Win rate: 0.727 | time: 49.67 minutes\n",
      "Epoch: 469/799 | Loss: 0.0263 | Episodes: 27 | Win count: 342 | Win rate: 0.728 | time: 49.71 minutes\n",
      "Epoch: 470/799 | Loss: 0.0403 | Episodes: 38 | Win count: 343 | Win rate: 0.728 | time: 49.78 minutes\n",
      "Epoch: 471/799 | Loss: 0.0235 | Episodes: 28 | Win count: 344 | Win rate: 0.729 | time: 49.84 minutes\n",
      "Epoch: 472/799 | Loss: 0.0486 | Episodes: 51 | Win count: 345 | Win rate: 0.729 | time: 49.93 minutes\n",
      "Epoch: 473/799 | Loss: 0.0361 | Episodes: 33 | Win count: 346 | Win rate: 0.730 | time: 49.98 minutes\n",
      "Epoch: 474/799 | Loss: 0.0075 | Episodes: 9 | Win count: 347 | Win rate: 0.731 | time: 50.00 minutes\n",
      "Epoch: 475/799 | Loss: 0.0052 | Episodes: 6 | Win count: 348 | Win rate: 0.731 | time: 50.02 minutes\n",
      "Epoch: 476/799 | Loss: 0.0271 | Episodes: 26 | Win count: 349 | Win rate: 0.732 | time: 50.06 minutes\n",
      "Epoch: 477/799 | Loss: 0.0007 | Episodes: 1 | Win count: 350 | Win rate: 0.732 | time: 50.07 minutes\n",
      "Epoch: 478/799 | Loss: 0.0231 | Episodes: 26 | Win count: 351 | Win rate: 0.733 | time: 50.12 minutes\n",
      "Epoch: 479/799 | Loss: 0.0068 | Episodes: 9 | Win count: 352 | Win rate: 0.733 | time: 50.13 minutes\n",
      "Epoch: 480/799 | Loss: 0.0040 | Episodes: 7 | Win count: 353 | Win rate: 0.734 | time: 50.15 minutes\n",
      "Epoch: 481/799 | Loss: 0.0179 | Episodes: 22 | Win count: 354 | Win rate: 0.734 | time: 50.19 minutes\n",
      "Epoch: 482/799 | Loss: 0.0016 | Episodes: 2 | Win count: 355 | Win rate: 0.735 | time: 50.21 minutes\n",
      "Epoch: 483/799 | Loss: 0.0232 | Episodes: 28 | Win count: 356 | Win rate: 0.736 | time: 50.26 minutes\n",
      "Epoch: 484/799 | Loss: 0.0284 | Episodes: 36 | Win count: 357 | Win rate: 0.736 | time: 50.32 minutes\n",
      "Epoch: 485/799 | Loss: 0.0007 | Episodes: 1 | Win count: 358 | Win rate: 0.737 | time: 50.33 minutes\n",
      "Epoch: 486/799 | Loss: 0.0088 | Episodes: 14 | Win count: 359 | Win rate: 0.737 | time: 50.35 minutes\n"
     ]
    },
    {
     "name": "stdout",
     "output_type": "stream",
     "text": [
      "Epoch: 487/799 | Loss: 0.0084 | Episodes: 10 | Win count: 360 | Win rate: 0.738 | time: 50.37 minutes\n",
      "Epoch: 488/799 | Loss: 0.0110 | Episodes: 12 | Win count: 361 | Win rate: 0.738 | time: 50.39 minutes\n",
      "Epoch: 489/799 | Loss: 0.0234 | Episodes: 33 | Win count: 362 | Win rate: 0.739 | time: 50.45 minutes\n",
      "Epoch: 490/799 | Loss: 0.0371 | Episodes: 50 | Win count: 363 | Win rate: 0.739 | time: 50.52 minutes\n",
      "Epoch: 491/799 | Loss: 0.0075 | Episodes: 9 | Win count: 364 | Win rate: 0.740 | time: 50.55 minutes\n",
      "Epoch: 492/799 | Loss: 0.0035 | Episodes: 5 | Win count: 365 | Win rate: 0.740 | time: 50.56 minutes\n",
      "Epoch: 493/799 | Loss: 0.0028 | Episodes: 4 | Win count: 366 | Win rate: 0.741 | time: 50.57 minutes\n",
      "Epoch: 494/799 | Loss: 0.0129 | Episodes: 24 | Win count: 367 | Win rate: 0.741 | time: 50.61 minutes\n",
      "Epoch: 495/799 | Loss: 0.0007 | Episodes: 1 | Win count: 368 | Win rate: 0.742 | time: 50.62 minutes\n",
      "Epoch: 496/799 | Loss: 0.0179 | Episodes: 26 | Win count: 369 | Win rate: 0.742 | time: 50.66 minutes\n",
      "Epoch: 497/799 | Loss: 0.0061 | Episodes: 9 | Win count: 370 | Win rate: 0.743 | time: 50.68 minutes\n",
      "Reached 100% win rate at epoch: 497\n",
      "n_epoch: 497, max_mem: 512, data: 32, time: 50.69 minutes\n"
     ]
    },
    {
     "data": {
      "text/plain": [
       "3041.452464"
      ]
     },
     "execution_count": 11,
     "metadata": {},
     "output_type": "execute_result"
    }
   ],
   "source": [
    "model = build_model(maze)\n",
    "qtrain(model, maze, epochs=1000, max_memory=8*maze.size, data_size=32)"
   ]
  },
  {
   "cell_type": "markdown",
   "metadata": {},
   "source": [
    "This cell will check to see if the model passes the completion check. Note: This could take several minutes."
   ]
  },
  {
   "cell_type": "code",
   "execution_count": 12,
   "metadata": {},
   "outputs": [
    {
     "data": {
      "text/plain": [
       "<matplotlib.image.AxesImage at 0x23404c3ab08>"
      ]
     },
     "execution_count": 12,
     "metadata": {},
     "output_type": "execute_result"
    },
    {
     "data": {
      "image/png": "[encoded data removed]",
      "text/plain": [
       "<Figure size 432x288 with 1 Axes>"
      ]
     },
     "metadata": {
      "needs_background": "light"
     },
     "output_type": "display_data"
    }
   ],
   "source": [
    "completion_check(model, qmaze)\n",
    "show(qmaze)"
   ]
  },
  {
   "cell_type": "markdown",
   "metadata": {},
   "source": [
    "This cell will test your model for one game. It will start the pirate at the top-left corner and run play_game. The agent should find a path from the starting position to the target (treasure). The treasure is located in the bottom-right corner."
   ]
  },
  {
   "cell_type": "code",
   "execution_count": 13,
   "metadata": {},
   "outputs": [
    {
     "data": {
      "text/plain": [
       "<matplotlib.image.AxesImage at 0x23404cd1dc8>"
      ]
     },
     "execution_count": 13,
     "metadata": {},
     "output_type": "execute_result"
    },
    {
     "data": {
      "image/png": "[encoded data removed]",
      "text/plain": [
       "<Figure size 432x288 with 1 Axes>"
      ]
     },
     "metadata": {
      "needs_background": "light"
     },
     "output_type": "display_data"
    }
   ],
   "source": [
    "pirate_start = (0, 0)\n",
    "play_game(model, qmaze, pirate_start)\n",
    "show(qmaze)"
   ]
  },
  {
   "cell_type": "markdown",
   "metadata": {},
   "source": [
    "## Save and Submit Your Work\n",
    "After you have finished creating the code for your notebook, save your work. Make sure that your notebook contains your name in the filename (e.g. Doe_Jane_ProjectTwo.ipynb). This will help your instructor access and grade your work easily. Download a copy of your IPYNB file and submit it to Brightspace. Refer to the Jupyter Notebook in Apporto Tutorial if you need help with these tasks."
   ]
  }
 ],
 "metadata": {
  "kernelspec": {
   "display_name": "Python 3",
   "language": "python",
   "name": "python3"
  },
  "language_info": {
   "codemirror_mode": {
    "name": "ipython",
    "version": 3
   },
   "file_extension": ".py",
   "mimetype": "text/x-python",
   "name": "python",
   "nbconvert_exporter": "python",
   "pygments_lexer": "ipython3",
   "version": "3.7.4"
  }
 },
 "nbformat": 4,
 "nbformat_minor": 2
}
